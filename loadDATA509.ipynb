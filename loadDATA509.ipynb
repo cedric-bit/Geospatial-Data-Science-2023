{
  "nbformat": 4,
  "nbformat_minor": 0,
  "metadata": {
    "colab": {
      "provenance": [],
      "machine_shape": "hm",
      "authorship_tag": "ABX9TyPPpSjQ6TGo9kHv1WndZ546",
      "include_colab_link": true
    },
    "kernelspec": {
      "name": "python3",
      "display_name": "Python 3"
    },
    "language_info": {
      "name": "python"
    },
    "gpuClass": "premium"
  },
  "cells": [
    {
      "cell_type": "markdown",
      "metadata": {
        "id": "view-in-github",
        "colab_type": "text"
      },
      "source": [
        "<a href=\"https://colab.research.google.com/github/cedric-bit/Geospatial-Data-Science-2023/blob/main/loadDATA509.ipynb\" target=\"_parent\"><img src=\"https://colab.research.google.com/assets/colab-badge.svg\" alt=\"Open In Colab\"/></a>"
      ]
    },
    {
      "cell_type": "code",
      "execution_count": null,
      "metadata": {
        "id": "S5DQF0VmmW7P"
      },
      "outputs": [],
      "source": [
        "!pip install osmium\n",
        "\n",
        "\n"
      ]
    },
    {
      "cell_type": "code",
      "source": [
        "!pip install gtfs-realtime-bindings\n"
      ],
      "metadata": {
        "id": "aMwpUxr2ByBX"
      },
      "execution_count": null,
      "outputs": []
    },
    {
      "cell_type": "code",
      "source": [
        "!pip install osmnx\n",
        "\n",
        "\n",
        "\n",
        "\n",
        "\n"
      ],
      "metadata": {
        "id": "MghQLuAQDH6v"
      },
      "execution_count": null,
      "outputs": []
    },
    {
      "cell_type": "code",
      "source": [
        "!pip install --upgrade protobuf\n",
        "\n"
      ],
      "metadata": {
        "id": "6oIzJF18I40A",
        "colab": {
          "base_uri": "https://localhost:8080/"
        },
        "outputId": "7523136f-5949-48f5-81d4-f7ed29915ff2"
      },
      "execution_count": 5,
      "outputs": [
        {
          "output_type": "stream",
          "name": "stdout",
          "text": [
            "Looking in indexes: https://pypi.org/simple, https://us-python.pkg.dev/colab-wheels/public/simple/\n",
            "Requirement already satisfied: protobuf in /usr/local/lib/python3.9/dist-packages (3.20.3)\n",
            "Collecting protobuf\n",
            "  Downloading protobuf-4.22.1-cp37-abi3-manylinux2014_x86_64.whl (302 kB)\n",
            "\u001b[2K     \u001b[90m━━━━━━━━━━━━━━━━━━━━━━━━━━━━━━━━━━━━━━━\u001b[0m \u001b[32m302.4/302.4 KB\u001b[0m \u001b[31m2.3 MB/s\u001b[0m eta \u001b[36m0:00:00\u001b[0m\n",
            "\u001b[?25hInstalling collected packages: protobuf\n",
            "  Attempting uninstall: protobuf\n",
            "    Found existing installation: protobuf 3.20.3\n",
            "    Uninstalling protobuf-3.20.3:\n",
            "      Successfully uninstalled protobuf-3.20.3\n",
            "\u001b[31mERROR: pip's dependency resolver does not currently take into account all the packages that are installed. This behaviour is the source of the following dependency conflicts.\n",
            "tensorflow 2.12.0 requires numpy<1.24,>=1.22, but you have numpy 1.24.2 which is incompatible.\n",
            "tensorflow-metadata 1.13.0 requires protobuf<4,>=3.13, but you have protobuf 4.22.1 which is incompatible.\u001b[0m\u001b[31m\n",
            "\u001b[0mSuccessfully installed protobuf-4.22.1\n"
          ]
        }
      ]
    },
    {
      "cell_type": "code",
      "source": [
        "from google.colab import drive\n",
        "drive.mount('/content/drive')\n",
        "import os\n",
        "from datetime import datetime\n",
        "import osmnx as ox\n",
        "from google.transit import gtfs_realtime_pb2\n",
        "from google.protobuf import text_format\n",
        "import pandas as pd\n",
        "import os\n",
        "import zipfile\n",
        "import osmium\n",
        "import datetime\n",
        "import matplotlib.pyplot as plt\n",
        "import folium\n",
        "\n",
        "\n",
        "# Chemin d'accès au dossier contenant les fichiers GTFS-RT et GTFS\n",
        "shortcut_path = '/content/drive/MyDrive/Geospatial Data Science 2023'\n",
        "\n",
        "def read_gtfs_static_file(file_path):\n",
        "    print(f\"Ouverture du fichier {file_path}\")\n",
        "    with zipfile.ZipFile(file_path, 'r') as z:\n",
        "        stops_df = pd.read_csv(z.open('stops.txt'))\n",
        "        stop_times_df = pd.read_csv(z.open('stop_times.txt'))\n",
        "        trips_df = pd.read_csv(z.open('trips.txt'))\n",
        "        routes_df = pd.read_csv(z.open('routes.txt'))\n",
        "    \n",
        "    return stops_df, stop_times_df, trips_df, routes_df\n",
        "\n",
        "def extract_trip_updates(feed_realtime):\n",
        "    trip_updates = []\n",
        "\n",
        "    for entity in feed_realtime.entity:\n",
        "        if entity.HasField('trip_update'):\n",
        "            trip_update = entity.trip_update\n",
        "            trip_id = trip_update.trip.trip_id\n",
        "            route_id = trip_update.trip.route_id\n",
        "            for stop_time_update in trip_update.stop_time_update:\n",
        "                stop_id = stop_time_update.stop_id\n",
        "                arrival_time = stop_time_update.arrival.time\n",
        "                departure_time = stop_time_update.departure.time\n",
        "                delay = stop_time_update.arrival.delay\n",
        "\n",
        "                trip_updates.append({\n",
        "                    'trip_id': trip_id,\n",
        "                    'route_id': route_id,\n",
        "                    'stop_id': stop_id,\n",
        "                    'arrival_time': arrival_time,\n",
        "                    'departure_time': departure_time,\n",
        "                    'delay': delay\n",
        "                })\n",
        "\n",
        "    return trip_updates    \n",
        "\n",
        "def process_gtfsrt_file(file_path):\n",
        "    feed = gtfs_realtime_pb2.FeedMessage()\n",
        "    \n",
        "    try:\n",
        "        with open(file_path, 'rb') as f:\n",
        "            content = f.read()\n",
        "            feed.ParseFromString(content)\n",
        "    except Exception as e:\n",
        "        #print(f\"Erreur lors du traitement du fichier {file_path}: {e}\")\n",
        "        return None\n",
        "\n",
        "    return feed\n",
        "\n",
        "# Liste de tous les fichiers GTFS et GTFS-realtime\n",
        "gtfs_files = []\n",
        "gtfsrt_files = []\n",
        "\n",
        "# Parcourez tous les sous-dossiers\n",
        "for subdir, dirs, files in os.walk(shortcut_path):\n",
        "    for file in files:\n",
        "        # Vérifiez si le fichier est un fichier GTFS zip\n",
        "        if file.endswith('.zip'):\n",
        "            gtfs_file_path = os.path.join(subdir, file)\n",
        "            gtfs_files.append(gtfs_file_path)\n",
        "        # Vérifiez si le fichier est un fichier GTFS-realtime\n",
        "        elif file.endswith('.gtfsrt'):\n",
        "            gtfsrt_file_path = os.path.join(subdir, file)\n",
        "            gtfsrt_files.append(gtfsrt_file_path)\n",
        "\n",
        "# Utilisez les fonctions pour extraire les informations\n",
        "for gtfs_file in gtfs_files:\n",
        "    stops_df, stop_times_df, trips_df, routes_df = read_gtfs_static_file(gtfs_file)\n",
        "    # Utilisez les DataFrames pour effectuer vos analyses et traitements\n",
        "\n",
        "for gtfsrt_file in gtfsrt_files:\n",
        "    feed_realtime = process_gtfsrt_file(gtfsrt_file)\n",
        "    if feed_realtime is not None:\n",
        "        trip_updates = extract_trip_updates(feed_realtime)\n",
        "        # Utilisez la liste trip_updates pour effectuer vos analyses et traitements\n",
        "\n",
        "\n",
        "# Pour les données GTFS statiques\n",
        "\n",
        "\n",
        "# Pour les données GTFS en temps réel\n",
        "if 'trip_updates' in locals():\n",
        "    print(\"\\nTrip Updates:\")\n",
        "    for i, trip_update in enumerate(trip_updates[:5]):\n",
        "        print(f\"Update {i + 1}:\")\n",
        "        print(f\"  Trip ID: {trip_update['trip_id']}\")\n",
        "        print(f\"  Route ID: {trip_update['route_id']}\")\n",
        "        print(f\"  Stop ID: {trip_update['stop_id']}\")\n",
        "        print(f\"  Arrival Time: {trip_update['arrival_time']}\")\n",
        "        print(f\"  Departure Time: {trip_update['departure_time']}\")\n",
        "        print(f\"  Delay: {trip_update['delay']}\")\n",
        "else:\n",
        "    print(\"No trip updates available.\")\n",
        "\n",
        "\n"
      ],
      "metadata": {
        "id": "XEnHvVxJznF7",
        "colab": {
          "base_uri": "https://localhost:8080/",
          "height": 1000
        },
        "outputId": "41ee8ad8-7cba-45fc-e085-6def92822025"
      },
      "execution_count": 6,
      "outputs": [
        {
          "output_type": "stream",
          "name": "stdout",
          "text": [
            "Drive already mounted at /content/drive; to attempt to forcibly remount, call drive.mount(\"/content/drive\", force_remount=True).\n"
          ]
        },
        {
          "output_type": "error",
          "ename": "RuntimeError",
          "evalue": "ignored",
          "traceback": [
            "\u001b[0;31m---------------------------------------------------------------------------\u001b[0m",
            "\u001b[0;31mRuntimeError\u001b[0m                              Traceback (most recent call last)",
            "\u001b[0;31mRuntimeError\u001b[0m: module compiled against API version 0x10 but this version of numpy is 0xf . Check the section C-API incompatibility at the Troubleshooting ImportError section at https://numpy.org/devdocs/user/troubleshooting-importerror.html#c-api-incompatibility for indications on how to solve this problem ."
          ]
        },
        {
          "output_type": "stream",
          "name": "stdout",
          "text": [
            "Ouverture du fichier /content/drive/MyDrive/Geospatial Data Science 2023/2023-03-18/gtfs.zip\n",
            "Ouverture du fichier /content/drive/MyDrive/Geospatial Data Science 2023/2023-03-19/gtfs.zip\n",
            "Ouverture du fichier /content/drive/MyDrive/Geospatial Data Science 2023/2023-03-20/gtfs.zip\n",
            "Ouverture du fichier /content/drive/MyDrive/Geospatial Data Science 2023/2023-03-22/gtfs.zip\n",
            "Ouverture du fichier /content/drive/MyDrive/Geospatial Data Science 2023/2023-03-23/gtfs.zip\n",
            "Ouverture du fichier /content/drive/MyDrive/Geospatial Data Science 2023/2023-03-29/gtfs.zip\n",
            "Ouverture du fichier /content/drive/MyDrive/Geospatial Data Science 2023/2023-03-26/gtfs.zip\n",
            "Ouverture du fichier /content/drive/MyDrive/Geospatial Data Science 2023/2023-03-28/gtfs.zip\n",
            "Ouverture du fichier /content/drive/MyDrive/Geospatial Data Science 2023/2023-03-27/gtfs.zip\n",
            "Ouverture du fichier /content/drive/MyDrive/Geospatial Data Science 2023/2023-03-30/gtfs.zip\n",
            "Ouverture du fichier /content/drive/MyDrive/Geospatial Data Science 2023/2023-03-24/gtfs.zip\n",
            "Ouverture du fichier /content/drive/MyDrive/Geospatial Data Science 2023/2023-03-25/gtfs.zip\n",
            "\n",
            "Trip Updates:\n",
            "Update 1:\n",
            "  Trip ID: 88____:007::8891702:8844628:40:1542:20230414\n",
            "  Route ID: \n",
            "  Stop ID: 8891702\n",
            "  Arrival Time: 0\n",
            "  Departure Time: 1679398980\n",
            "  Delay: 0\n",
            "Update 2:\n",
            "  Trip ID: 88____:007::8891702:8844628:40:1542:20230414\n",
            "  Route ID: \n",
            "  Stop ID: 8891009\n",
            "  Arrival Time: 1679399760\n",
            "  Departure Time: 1679399880\n",
            "  Delay: 60\n",
            "Update 3:\n",
            "  Trip ID: 88____:007::8891702:8844628:40:1542:20230414\n",
            "  Route ID: \n",
            "  Stop ID: 8891116\n",
            "  Arrival Time: 1679400060\n",
            "  Departure Time: 1679400060\n",
            "  Delay: 0\n",
            "Update 4:\n",
            "  Trip ID: 88____:007::8891702:8844628:40:1542:20230414\n",
            "  Route ID: \n",
            "  Stop ID: 8891124\n",
            "  Arrival Time: 1679400300\n",
            "  Departure Time: 1679400300\n",
            "  Delay: 60\n",
            "Update 5:\n",
            "  Trip ID: 88____:007::8891702:8844628:40:1542:20230414\n",
            "  Route ID: \n",
            "  Stop ID: 8891165\n",
            "  Arrival Time: 1679400780\n",
            "  Departure Time: 1679400780\n",
            "  Delay: 0\n"
          ]
        }
      ]
    }
  ]
}