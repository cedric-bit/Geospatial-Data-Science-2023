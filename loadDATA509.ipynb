{
  "nbformat": 4,
  "nbformat_minor": 0,
  "metadata": {
    "colab": {
      "provenance": [],
      "authorship_tag": "ABX9TyPgKjWhszapNp6MEzHCsbRV",
      "include_colab_link": true
    },
    "kernelspec": {
      "name": "python3",
      "display_name": "Python 3"
    },
    "language_info": {
      "name": "python"
    },
    "accelerator": "TPU",
    "gpuClass": "standard"
  },
  "cells": [
    {
      "cell_type": "markdown",
      "metadata": {
        "id": "view-in-github",
        "colab_type": "text"
      },
      "source": [
        "<a href=\"https://colab.research.google.com/github/cedric-bit/Geospatial-Data-Science-2023/blob/main/loadDATA509.ipynb\" target=\"_parent\"><img src=\"https://colab.research.google.com/assets/colab-badge.svg\" alt=\"Open In Colab\"/></a>"
      ]
    },
    {
      "cell_type": "code",
      "execution_count": null,
      "metadata": {
        "id": "S5DQF0VmmW7P"
      },
      "outputs": [],
      "source": [
        "!pip install pandas\n"
      ]
    },
    {
      "cell_type": "code",
      "source": [
        "!pip install gtfs-realtime-bindings\n"
      ],
      "metadata": {
        "id": "aMwpUxr2ByBX"
      },
      "execution_count": null,
      "outputs": []
    },
    {
      "cell_type": "code",
      "source": [
        "!pip install osmnx\n",
        "\n",
        "\n",
        "\n",
        "\n",
        "\n"
      ],
      "metadata": {
        "id": "MghQLuAQDH6v"
      },
      "execution_count": null,
      "outputs": []
    },
    {
      "cell_type": "code",
      "source": [
        "!pip install --upgrade protobuf\n",
        "\n"
      ],
      "metadata": {
        "id": "6oIzJF18I40A"
      },
      "execution_count": null,
      "outputs": []
    },
    {
      "cell_type": "code",
      "source": [
        "from google.colab import drive\n",
        "drive.mount('/content/drive')\n",
        "import os\n",
        "from datetime import datetime\n",
        "import osmnx as ox\n",
        "from google.transit import gtfs_realtime_pb2\n",
        "from google.protobuf import text_format\n",
        "import pandas as pd\n",
        "import os\n",
        "import zipfile\n",
        "import datetime\n",
        "import matplotlib.pyplot as plt\n",
        "\n",
        "shortcut_path = '/content/drive/MyDrive/Geospatial Data Science 2023' \n",
        "geospacialdata_folder_name = \"Geospatial Data Science 2023\"\n",
        "\n",
        "# Vérifiez si le nom du dossier est présent dans le chemin du raccourci\n",
        "if geospacialdata_folder_name in shortcut_path:\n",
        "    base_path = shortcut_path\n",
        "else:\n",
        "    for folder in os.listdir(shortcut_path):\n",
        "        if folder == geospacialdata_folder_name:\n",
        "            base_path = os.path.join(shortcut_path, geospacialdata_folder_name)\n",
        "            break\n",
        "\n",
        "if base_path is not None:\n",
        "    print(f\"Dossier geospacialdata trouvé: {base_path}\")\n",
        "else:\n",
        "    print(\"Dossier geospacialdata non trouvé\")\n",
        "\n",
        "# Liste les fichiers et les dossiers dans le répertoire Geospatial Data Science 2023\n",
        "#for item in os.listdir(base_path):\n",
        " #   item_path = os.path.join(base_path, item)\n",
        "  #  if os.path.isdir(item_path):\n",
        "   #     print(f\"Dossier: {item}\")\n",
        "\n",
        "   \n",
        "# Sélectionnez le dossier 2023-03-20 pour le moment \n",
        "selected_folder = \"2023-03-20\"\n",
        "selected_folder_path = os.path.join(base_path, selected_folder)\n",
        "\n",
        "# Affichez le contenu du dossier sélectionné\n",
        "for item in os.listdir(selected_folder_path):\n",
        "    item_path = os.path.join(selected_folder_path, item)\n",
        "    if os.path.isdir(item_path):\n",
        "      print(f\"Dossier: {item}\")\n",
        "  #  elif os.path.isfile(item_path):\n",
        "   #     print(f\"Fichier: {item}\")\n",
        "\n",
        "\n",
        "\n",
        "def process_gtfsrt_file(file_path):\n",
        "    feed = gtfs_realtime_pb2.FeedMessage()\n",
        "    \n",
        "    try:\n",
        "        with open(file_path, 'rb') as f:\n",
        "            content = f.read()\n",
        "            feed.ParseFromString(content)\n",
        "    except Exception as e:\n",
        "        #print(f\"Erreur lors du traitement du fichier {file_path}: {e}\")\n",
        "        return None\n",
        "\n",
        "    return feed\n",
        "\n",
        "\n",
        "feeds = []\n",
        "#Ce code extrait les stop_time_update de chaque fichier GTFS Realtime et les ajoute à une liste stop_time_updates_list\n",
        "\n",
        "def extract_stop_time_updates(feed):\n",
        "    if feed is None:\n",
        "        return []\n",
        "\n",
        "    stop_time_updates = []\n",
        "\n",
        "    for entity in feed.entity:\n",
        "        if entity.HasField('trip_update'):\n",
        "            trip_update = entity.trip_update\n",
        "            for stop_time_update in trip_update.stop_time_update:\n",
        "                stop_time_updates.append(stop_time_update)\n",
        "\n",
        "    return stop_time_updates\n",
        "\n",
        "feeds = []\n",
        "first_file_processed = False\n",
        "# imprimer juste le contenue du premier fichier du dossiers \"2023-03-20\"\n",
        "for gtfsrt_file in os.listdir(selected_folder_path):\n",
        "    if gtfsrt_file.endswith('.gtfsrt'):\n",
        "        gtfsrt_file_path = os.path.join(selected_folder_path, gtfsrt_file)\n",
        "        feed = process_gtfsrt_file(gtfsrt_file_path)\n",
        "        feeds.append(feed)\n",
        "        if feed is not None:\n",
        "            feeds.append(feed)\n",
        "            if not first_file_processed:\n",
        "                print(\"Contenu du premier fichier:\")\n",
        "                #print(feed)\n",
        "                first_file_processed = True\n",
        "\n",
        "\n",
        "\n",
        "#stop_time extraites de tous les fichiers\n",
        "stop_time_updates_list = []\n",
        "\n",
        "for gtfsrt_file in os.listdir(selected_folder_path):\n",
        "    if gtfsrt_file.endswith('.gtfsrt'):\n",
        "        gtfsrt_file_path = os.path.join(selected_folder_path, gtfsrt_file)\n",
        "        feed = process_gtfsrt_file(gtfsrt_file_path)\n",
        "        stop_time_updates = extract_stop_time_updates(feed)\n",
        "        stop_time_updates_list.extend(stop_time_updates)\n",
        "\n",
        "# créer un DataFrame pour stocker les informations sur les mises à jour des horaires des arrêts \n",
        "def create_stop_time_updates_df(stop_time_updates):\n",
        "    stop_time_updates_data = []\n",
        "\n",
        "    for stop_time_update in stop_time_updates:\n",
        "        stop_time_updates_data.append({\n",
        "            'stop_id': stop_time_update.stop_id,\n",
        "            'arrival_delay': stop_time_update.arrival.delay,\n",
        "            'departure_delay': stop_time_update.departure.delay\n",
        "        })\n",
        "\n",
        "    return pd.DataFrame(stop_time_updates_data)\n",
        "# Affichez le nombre de mises à jour de stop_time extraites de tous les fichiers\n",
        "#print(f\"Nombre total de stop_time_updates extraites: {len(stop_time_updates_list)}\")\n",
        "\n",
        "# Utilisez la fonction create_stop_time_updates_df pour créer un DataFrame à partir de stop_time_updates\n",
        "stop_time_updates_df = create_stop_time_updates_df(stop_time_updates_list)\n",
        "\n",
        "\n",
        "# Groupez les données par stop_id et calculez la moyenne des retards d'arrivée et de départ\n",
        "grouped_by_stop = stop_time_updates_df.groupby('stop_id').agg(\n",
        "    arrival_delay_mean=('arrival_delay', 'mean'),\n",
        "    departure_delay_mean=('departure_delay', 'mean')\n",
        ")\n",
        "\n",
        "# Prenez les 10 premiers arrêts pour faciliter la lecture du graphique\n",
        "top_stops = grouped_by_stop.head(10)\n",
        "\n",
        "\n",
        "\n"
      ],
      "metadata": {
        "id": "XEnHvVxJznF7",
        "colab": {
          "base_uri": "https://localhost:8080/"
        },
        "outputId": "099dd5c2-7720-448a-f1e2-092d665c3ad5"
      },
      "execution_count": null,
      "outputs": [
        {
          "output_type": "stream",
          "name": "stdout",
          "text": [
            "Drive already mounted at /content/drive; to attempt to forcibly remount, call drive.mount(\"/content/drive\", force_remount=True).\n",
            "Dossier geospacialdata trouvé: /content/drive/MyDrive/Geospatial Data Science 2023\n",
            "Contenu du premier fichier:\n"
          ]
        }
      ]
    }
  ]
}